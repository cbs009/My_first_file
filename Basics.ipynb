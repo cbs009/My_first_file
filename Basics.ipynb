{
 "cells": [
  {
   "cell_type": "markdown",
   "metadata": {
    "slideshow": {
     "slide_type": "slide"
    }
   },
   "source": [
    "# Conditional:\n",
    "## 1. IF Statement\n"
   ]
  },
  {
   "cell_type": "code",
   "execution_count": null,
   "metadata": {},
   "outputs": [],
   "source": [
    "hrs = float(input(\"Enter Hours: \"))\n",
    "rate_per_hour = float(input(\"Enter Rate: \"))\n",
    "pay = hrs * rate_per_hour\n",
    "print(\"Pay: \",pay)\n"
   ]
  },
  {
   "cell_type": "code",
   "execution_count": null,
   "metadata": {},
   "outputs": [],
   "source": [
    "x = 42\n",
    "if x > 1 :\n",
    "    print('More than one')\n",
    "    if x < 100 :\n",
    "        print('Less than 100')\n",
    "print('All done')\n"
   ]
  },
  {
   "cell_type": "code",
   "execution_count": null,
   "metadata": {},
   "outputs": [],
   "source": [
    "x = 4\n",
    "\n",
    "if x > 2 :\n",
    "    print('Bigger')\n",
    "else : \n",
    "    print('Smaller')"
   ]
  },
  {
   "cell_type": "code",
   "execution_count": null,
   "metadata": {},
   "outputs": [],
   "source": [
    "x = 4\n",
    "\n",
    "if x < 2 :\n",
    "    print('Small')\n",
    "elif x < 10 :\n",
    "    print('Medium')\n",
    "else :\n",
    "    print('Large')\n",
    "print('All done')"
   ]
  },
  {
   "cell_type": "code",
   "execution_count": null,
   "metadata": {},
   "outputs": [],
   "source": [
    "greeting = 'Hello Bob'\n",
    "\n",
    "try : \n",
    "    new_greeting = int(Greeting)\n",
    "    \n",
    "except : \n",
    "    new_greeting = -1\n",
    "print('First', new_greeting)"
   ]
  },
  {
   "cell_type": "code",
   "execution_count": null,
   "metadata": {},
   "outputs": [],
   "source": [
    "string = '123'\n",
    "\n",
    "try:\n",
    "    number = int(string)\n",
    "except :\n",
    "    number = -1\n",
    "print('Second', number)"
   ]
  },
  {
   "cell_type": "code",
   "execution_count": null,
   "metadata": {},
   "outputs": [],
   "source": [
    "rawstring = input('Enter a number:')\n",
    "try :\n",
    "    ival = int(rawstring)\n",
    "except :\n",
    "    ival = -1\n",
    "if ival > 0 :\n",
    "    print('Nice Work')\n",
    "else :\n",
    "    print('Not a number')\n",
    "    "
   ]
  },
  {
   "cell_type": "raw",
   "metadata": {},
   "source": [
    "Write a program to prompt the user for hours and rate per hour using input to compute gross pay. Pay the hourly rate for the hours up to 40 and 1.5 times the hourly rate for all hours worked above 40 hours. Use 45 hours and a rate of 10.50 per hour to test the program (the pay should be 498.75). You should use input to read a string and float() to convert the string to a number. Do not worry about error checking the user input - assume the user types numbers properly."
   ]
  },
  {
   "cell_type": "code",
   "execution_count": null,
   "metadata": {},
   "outputs": [],
   "source": [
    "hours = float(input('Enter hours: '))\n",
    "\n",
    "rate_per_hour = float(input(\"Enter rate: \"))\n",
    "\n",
    "if hours <= 40 :\n",
    "    Gross_pay = hours * rate_per_hour\n",
    "    print(Gross_pay)\n",
    "    \n",
    "else :\n",
    "    Gross_pay = hours * rate_per_hour + (hours-40) * rate_per_hour* 0.5\n",
    "    print(Gross_pay)\n",
    "    \n",
    "    \n",
    "    \n",
    "    \n",
    "\n"
   ]
  },
  {
   "cell_type": "raw",
   "metadata": {},
   "source": [
    "Write a program to prompt for a score between 0.0 and 1.0. If the score is out of range, print an error. If the score is between 0.0 and 1.0, print a grade using the following table:\n",
    "Score Grade\n",
    ">= 0.9 A\n",
    ">= 0.8 B\n",
    ">= 0.7 C\n",
    ">= 0.6 D\n",
    "< 0.6 F\n",
    "If the user enters a value out of range, print a suitable error message and exit. For the test, enter a score of 0.85."
   ]
  },
  {
   "cell_type": "code",
   "execution_count": null,
   "metadata": {},
   "outputs": [],
   "source": [
    "Score = float(input('Enter your score : '))\n",
    "\n",
    "if Score >=0.90 and Score <= 1.0 :\n",
    "    print('A')\n",
    "elif Score >= 0.8 and Score <= 0.90 :\n",
    "    print('B')\n",
    "elif Score >= 0.7 and Score <= 0.80 :\n",
    "    print('C')\n",
    "elif Score >= 0.6 and Score <= 0.70 :\n",
    "    print('D')\n",
    "elif Score >= 0.6 and Score <= 0.0 :\n",
    "    print('F')\n",
    "else :\n",
    "    print('Out of range')"
   ]
  },
  {
   "cell_type": "code",
   "execution_count": null,
   "metadata": {},
   "outputs": [],
   "source": [
    "def greet(lang) :\n",
    "    if lang =='es' :\n",
    "        return 'Hola'\n",
    "    elif lang == 'fr' :\n",
    "        return 'Bonjour'\n",
    "    else : \n",
    "        return 'Hello'\n",
    "    \n",
    "    "
   ]
  },
  {
   "cell_type": "code",
   "execution_count": null,
   "metadata": {},
   "outputs": [],
   "source": [
    "print(greet('es'), 'Glenn')\n",
    "print(greet('fr'), 'Sally')\n",
    "print(greet('en'), 'Michael')"
   ]
  },
  {
   "cell_type": "raw",
   "metadata": {},
   "source": [
    "4.6 Write a program to prompt the user for hours and rate per hour using input to compute gross pay. Pay should be the normal rate for hours up to 40 and time-and-a-half for the hourly rate for all hours worked above 40 hours. Put the logic to do the computation of pay in a function called computepay() and use the function to do the computation. The function should return a value. Use 45 hours and a rate of 10.50 per hour to test the program (the pay should be 498.75). You should use input to read a string and float() to convert the string to a number. Do not worry about error checking the user input unless you want to - you can assume the user types numbers properly. Do not name your variable sum or use the sum() function."
   ]
  },
  {
   "cell_type": "code",
   "execution_count": null,
   "metadata": {},
   "outputs": [],
   "source": [
    "def computepay(hours, rate_per_hour) :\n",
    "    if hours <=10 :\n",
    "        pay = hours * rate_per_hour\n",
    "    else :\n",
    "        pay = hours * rate_per_hour + (hours-40) * rate_per_hour * .5\n",
    "    return pay\n",
    "        \n"
   ]
  },
  {
   "cell_type": "code",
   "execution_count": null,
   "metadata": {},
   "outputs": [],
   "source": [
    "hours = float(input('Enter Hours: '))\n",
    "\n",
    "rate_per_hour = float(input('Enter rate: '))\n",
    "\n",
    "print('Pay is: ', computepay(hours, rate_per_hour))"
   ]
  },
  {
   "cell_type": "markdown",
   "metadata": {},
   "source": [
    "# LOOP"
   ]
  },
  {
   "cell_type": "code",
   "execution_count": 1,
   "metadata": {},
   "outputs": [
    {
     "name": "stdout",
     "output_type": "stream",
     "text": [
      "4\n",
      "3\n",
      "2\n",
      "1\n",
      "0\n"
     ]
    }
   ],
   "source": [
    "n = 5\n",
    "while n > 0 :\n",
    "    n = n - 1\n",
    "    print(n)\n"
   ]
  },
  {
   "cell_type": "code",
   "execution_count": null,
   "metadata": {},
   "outputs": [],
   "source": [
    "while True :\n",
    "    line = input('Write Something :')\n",
    "    if line == 'xxx':\n",
    "        break\n",
    "    print(line)\n",
    "print('Done !')"
   ]
  },
  {
   "cell_type": "code",
   "execution_count": 2,
   "metadata": {},
   "outputs": [
    {
     "name": "stdout",
     "output_type": "stream",
     "text": [
      "Write Something :done\n",
      "done\n"
     ]
    }
   ],
   "source": [
    "while True :\n",
    "    line = input('Write Something :')\n",
    "    if line[0] == '-':\n",
    "        continue\n",
    "    \n",
    "    if line == 'done' :\n",
    "        break\n",
    "    print(line)\n",
    "print(line)\n",
    "\n"
   ]
  },
  {
   "cell_type": "code",
   "execution_count": 1,
   "metadata": {},
   "outputs": [
    {
     "name": "stdout",
     "output_type": "stream",
     "text": [
      "Write Something :#\n",
      "Write Something :-\n",
      "-\n",
      "Write Something :ss\n",
      "ss\n",
      "Write Something :done\n",
      "done\n",
      "Write Something :done\n",
      "done\n",
      "Write Something :#\n",
      "Write Something :ss\n",
      "ss\n",
      "Write Something :done!\n",
      "done!\n"
     ]
    }
   ],
   "source": [
    "while True :\n",
    "    line = input('Write Something :')\n",
    "    if line[0] == \"#\" :\n",
    "        continue\n",
    "        \n",
    "    if line == 'done!' :\n",
    "        break\n",
    "    print(line)\n",
    "        \n",
    "print(line)\n",
    "\n",
    "        \n",
    "    \n"
   ]
  },
  {
   "cell_type": "code",
   "execution_count": 2,
   "metadata": {},
   "outputs": [
    {
     "name": "stdout",
     "output_type": "stream",
     "text": [
      "Happy new year friend:  Joseph\n",
      "Happy new year friend:  Glenn\n",
      "Happy new year friend:  Sally\n",
      "All done\n"
     ]
    }
   ],
   "source": [
    "friends = ['Joseph', 'Glenn', 'Sally']\n",
    "for friend in friends :\n",
    "    print('Happy new year friend: ', friend)\n",
    "print('All done')"
   ]
  },
  {
   "cell_type": "markdown",
   "metadata": {},
   "source": [
    "Write a while loop to display the values of the Rating of an album playlist stored in the list PlayListRatings. If the score is less than 6, exit the loop. The list PlayListRatings is given by: PlayListRatings = [10, 9.5, 10, 8, 7.5, 5, 10, 10]"
   ]
  },
  {
   "cell_type": "code",
   "execution_count": null,
   "metadata": {},
   "outputs": [],
   "source": [
    "PlayListRatings = [10, 9.5, 10, 8, 7.5, 5, 10, 10]\n",
    "rating = PlayListRatings[0]\n",
    "i = 0\n",
    "while rating >= 6 :\n",
    "    print(rating)\n",
    "    rating = PlayListRatings[i]\n",
    "    i = i + 1"
   ]
  },
  {
   "cell_type": "markdown",
   "metadata": {},
   "source": [
    "# \n",
    "Write a while loop to copy the strings 'orange' of the list squares to the list new_squares. Stop and exit the loop if the value on the list is not 'orange':\n"
   ]
  },
  {
   "cell_type": "raw",
   "metadata": {},
   "source": [
    "squares = ['orange', 'orange', 'purple', 'blue ', 'orange']\n",
    "new_square = []\n",
    "i = 0\n",
    "while (squares[i] == 'orange'):\n",
    "    new_square == new_square.append(squares[i])\n",
    "    i = i + 1\n",
    "    print(new_square)\n",
    "    "
   ]
  },
  {
   "cell_type": "markdown",
   "metadata": {},
   "source": [
    "# Find the largest Value"
   ]
  },
  {
   "cell_type": "code",
   "execution_count": 15,
   "metadata": {},
   "outputs": [
    {
     "name": "stdout",
     "output_type": "stream",
     "text": [
      "89\n"
     ]
    }
   ],
   "source": [
    "largest_so_far = -1\n",
    "for largest_num in [-67,21,8,34,89,67,5] :\n",
    "    if largest_num > largest_so_far :\n",
    "        largest_so_far = largest_num\n",
    "print(largest_so_far)"
   ]
  },
  {
   "cell_type": "code",
   "execution_count": 6,
   "metadata": {},
   "outputs": [
    {
     "name": "stdout",
     "output_type": "stream",
     "text": [
      "1 10\n",
      "2 3\n",
      "3 5\n",
      "4 6\n",
      "5 7\n",
      "6 12\n",
      "7 90\n"
     ]
    }
   ],
   "source": [
    "x = 0\n",
    "for i in [10, 3, 5, 6, 7, 12,90] :\n",
    "    x = x + 1\n",
    "    print(x, i)"
   ]
  },
  {
   "cell_type": "code",
   "execution_count": 8,
   "metadata": {},
   "outputs": [
    {
     "name": "stdout",
     "output_type": "stream",
     "text": [
      "23 23\n",
      "8 31\n",
      "12 43\n",
      "67 110\n",
      "90 200\n",
      "1 201\n",
      "2 203\n",
      "3 206\n",
      "9 215\n"
     ]
    }
   ],
   "source": [
    "start_with = 0\n",
    "for i in [23, 8, 12, 67, 90, 1, 2, 3, 9] :\n",
    "    start_with = start_with + i\n",
    "    print(i, start_with)"
   ]
  },
  {
   "cell_type": "code",
   "execution_count": null,
   "metadata": {},
   "outputs": [],
   "source": []
  },
  {
   "cell_type": "code",
   "execution_count": null,
   "metadata": {},
   "outputs": [],
   "source": []
  },
  {
   "cell_type": "code",
   "execution_count": null,
   "metadata": {},
   "outputs": [],
   "source": []
  },
  {
   "cell_type": "code",
   "execution_count": null,
   "metadata": {},
   "outputs": [],
   "source": []
  },
  {
   "cell_type": "code",
   "execution_count": null,
   "metadata": {},
   "outputs": [],
   "source": []
  },
  {
   "cell_type": "code",
   "execution_count": null,
   "metadata": {},
   "outputs": [],
   "source": []
  },
  {
   "cell_type": "code",
   "execution_count": null,
   "metadata": {},
   "outputs": [],
   "source": []
  },
  {
   "cell_type": "code",
   "execution_count": null,
   "metadata": {},
   "outputs": [],
   "source": []
  },
  {
   "cell_type": "code",
   "execution_count": null,
   "metadata": {},
   "outputs": [],
   "source": []
  }
 ],
 "metadata": {
  "kernelspec": {
   "display_name": "Python 3",
   "language": "python",
   "name": "python3"
  },
  "language_info": {
   "codemirror_mode": {
    "name": "ipython",
    "version": 3
   },
   "file_extension": ".py",
   "mimetype": "text/x-python",
   "name": "python",
   "nbconvert_exporter": "python",
   "pygments_lexer": "ipython3",
   "version": "3.7.3"
  }
 },
 "nbformat": 4,
 "nbformat_minor": 4
}
